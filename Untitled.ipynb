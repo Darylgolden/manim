{
 "cells": [
  {
   "cell_type": "code",
   "execution_count": 1,
   "id": "2744787a",
   "metadata": {},
   "outputs": [
    {
     "data": {
      "text/html": [
       "<pre style=\"white-space:pre;overflow-x:auto;line-height:normal;font-family:Menlo,'DejaVu Sans Mono',consolas,'Courier New',monospace\">Manim Community <span style=\"color: #008000\">v0.4.0</span>\n",
       "\n",
       "</pre>\n"
      ],
      "text/plain": [
       "<rich.jupyter.JupyterRenderable at 0x1c016169d60>"
      ]
     },
     "metadata": {},
     "output_type": "display_data"
    }
   ],
   "source": [
    "from manim import *"
   ]
  },
  {
   "cell_type": "code",
   "execution_count": 2,
   "id": "a8309e57",
   "metadata": {},
   "outputs": [
    {
     "data": {
      "text/html": [
       "<pre style=\"white-space:pre;overflow-x:auto;line-height:normal;font-family:Menlo,'DejaVu Sans Mono',consolas,'Courier New',monospace\"><span style=\"color: #7fbfbf\">[04/15/21 12:13:11] </span><span style=\"color: #008000\">INFO</span>     <span style=\"color: #808000; font-weight: bold\">Writing</span> <span style=\"color: #008000\">\"\\mathbb{M}\"</span> to                   <a href=\"file://C:\\Users\\Daryl\\manim-dev\\manim\\manim\\utils\\tex_file_writing.py\"><span style=\"color: #7f7f7f\">tex_file_writing.py</span></a><span style=\"color: #7f7f7f\">:81</span>\n",
       "                             media\\Tex\\d542770d69a4bbe7.tex                                  \n",
       "</pre>\n"
      ],
      "text/plain": [
       "<rich.jupyter.JupyterRenderable at 0x1c016064a00>"
      ]
     },
     "metadata": {},
     "output_type": "display_data"
    },
    {
     "data": {
      "text/html": [
       "<pre style=\"white-space:pre;overflow-x:auto;line-height:normal;font-family:Menlo,'DejaVu Sans Mono',consolas,'Courier New',monospace\"><span style=\"color: #7fbfbf\">[04/15/21 12:13:13] </span><span style=\"color: #008000\">INFO</span>                                             <a href=\"file://C:\\Users\\Daryl\\manim-dev\\manim\\manim\\scene\\scene_file_writer.py\"><span style=\"color: #7f7f7f\">scene_file_writer.py</span></a><span style=\"color: #7f7f7f\">:585</span>\n",
       "                             <span style=\"color: #808000; font-weight: bold\">File</span> ready at C:\\Users\\Daryl\\manim-dev\\                         \n",
       "                             manim\\media\\images\\manim\\ManimCELogo_Ma                         \n",
       "                             nimCE_v0.<span style=\"color: #008000\">4.0</span>.png                                                \n",
       "                                                                                             \n",
       "</pre>\n"
      ],
      "text/plain": [
       "<rich.jupyter.JupyterRenderable at 0x1c0165ce670>"
      ]
     },
     "metadata": {},
     "output_type": "display_data"
    },
    {
     "data": {
      "text/html": [
       "<pre style=\"white-space:pre;overflow-x:auto;line-height:normal;font-family:Menlo,'DejaVu Sans Mono',consolas,'Courier New',monospace\"><span style=\"color: #7fbfbf\">                    </span><span style=\"color: #008000\">INFO</span>     <span style=\"color: #808000; font-weight: bold\">Rendered</span> ManimCELogo                                <a href=\"file://C:\\Users\\Daryl\\manim-dev\\manim\\manim\\scene\\scene.py\"><span style=\"color: #7f7f7f\">scene.py</span></a><span style=\"color: #7f7f7f\">:188</span>\n",
       "                             <span style=\"color: #808000; font-weight: bold\">Played</span> <span style=\"color: #008000\">0</span> <span style=\"color: #808000; font-weight: bold\">animations</span>                                             \n",
       "</pre>\n"
      ],
      "text/plain": [
       "<rich.jupyter.JupyterRenderable at 0x1c0165ce6d0>"
      ]
     },
     "metadata": {},
     "output_type": "display_data"
    },
    {
     "data": {
      "text/html": [
       "<pre style=\"white-space:pre;overflow-x:auto;line-height:normal;font-family:Menlo,'DejaVu Sans Mono',consolas,'Courier New',monospace\"><span style=\"color: #7fbfbf\">                    </span><span style=\"color: #008000\">INFO</span>     Previewed <span style=\"color: #808000; font-weight: bold\">File</span> at: C:\\Users\\Daryl\\manim-dev\\manim <a href=\"file://C:\\Users\\Daryl\\manim-dev\\manim\\manim\\utils\\file_ops.py\"><span style=\"color: #7f7f7f\">file_ops.py</span></a><span style=\"color: #7f7f7f\">:98</span>\n",
       "                             \\media\\images\\manim\\ManimCELogo_ManimCE_v0.<span style=\"color: #008000\">4.0</span>.pn               \n",
       "                             g                                                               \n",
       "</pre>\n"
      ],
      "text/plain": [
       "<rich.jupyter.JupyterRenderable at 0x1c0165ce670>"
      ]
     },
     "metadata": {},
     "output_type": "display_data"
    },
    {
     "data": {
      "application/vnd.jupyter.widget-view+json": {
       "model_id": "23882b3c7905482a825351ea3d409be1",
       "version_major": 2,
       "version_minor": 0
      },
      "text/plain": [
       "AppLayout(children=(GridspecLayout(children=(Button(icon='picture-o', layout=Layout(grid_area='widget001', hei…"
      ]
     },
     "metadata": {},
     "output_type": "display_data"
    }
   ],
   "source": [
    "%%manim -ps ManimCELogo\n",
    "\n",
    "class ManimCELogo(Scene):\n",
    "    def construct(self):\n",
    "        self.camera.background_color = \"#ece6e2\"\n",
    "        logo_green = \"#87c2a5\"\n",
    "        logo_blue = \"#525893\"\n",
    "        logo_red = \"#e07a5f\"\n",
    "        logo_black = \"#343434\"\n",
    "        ds_m = MathTex(r\"\\mathbb{M}\", fill_color=logo_black).scale(7)\n",
    "        ds_m.shift(2.25 * LEFT + 1.5 * UP)\n",
    "        circle = Circle(color=logo_green, fill_opacity=1).shift(LEFT)\n",
    "        square = Square(color=logo_blue, fill_opacity=1).shift(UP)\n",
    "        triangle = Triangle(color=logo_red, fill_opacity=1).shift(RIGHT)\n",
    "        logo = VGroup(triangle, square, circle, ds_m)  # order matters\n",
    "        logo.move_to(ORIGIN)\n",
    "        self.add(logo)"
   ]
  },
  {
   "cell_type": "code",
   "execution_count": null,
   "id": "c2e35055",
   "metadata": {},
   "outputs": [],
   "source": []
  }
 ],
 "metadata": {
  "kernelspec": {
   "display_name": "Python 3",
   "language": "python",
   "name": "python3"
  },
  "language_info": {
   "codemirror_mode": {
    "name": "ipython",
    "version": 3
   },
   "file_extension": ".py",
   "mimetype": "text/x-python",
   "name": "python",
   "nbconvert_exporter": "python",
   "pygments_lexer": "ipython3",
   "version": "3.9.2"
  }
 },
 "nbformat": 4,
 "nbformat_minor": 5
}
